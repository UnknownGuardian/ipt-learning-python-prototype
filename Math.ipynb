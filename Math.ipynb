{
  "nbformat": 4,
  "nbformat_minor": 0,
  "metadata": {
    "colab": {
      "name": "Math.ipynb",
      "provenance": [],
      "toc_visible": true,
      "include_colab_link": true
    },
    "kernelspec": {
      "name": "python3",
      "display_name": "Python 3"
    },
    "language_info": {
      "name": "python"
    }
  },
  "cells": [
    {
      "cell_type": "markdown",
      "metadata": {
        "id": "view-in-github",
        "colab_type": "text"
      },
      "source": [
        "<a href=\"https://colab.research.google.com/github/UnknownGuardian/ipt-learning-python-prototype/blob/gh-pages/Math.ipynb\" target=\"_parent\"><img src=\"https://colab.research.google.com/assets/colab-badge.svg\" alt=\"Open In Colab\"/></a>"
      ]
    },
    {
      "cell_type": "markdown",
      "metadata": {
        "id": "E1xMIJ212YtV"
      },
      "source": [
        "# Arithmetic Operators"
      ]
    },
    {
      "cell_type": "markdown",
      "metadata": {
        "id": "Ed767pG571QH"
      },
      "source": [
        "Python has arithmetic operators, like the following:\n",
        "\n",
        "| Operator      | Function | Integer example | Float Example\n",
        "| ----------- | ----------- | ---- | ---|\n",
        "| `+`      | Add | 5 + 3 = 8 | 5.1 + 3.2 = 8.3\n",
        "| `-`   | Subtract | 5 - 3 = 2 | 5.1 - 3.2 = 1.9\n",
        "| `*`   | Multiply | 5 \\* 3 = 15 | 5.1 \\* 3.2 = 16.32\n",
        "| `/`   | Divide | 5 / 3 = 1 | 5.0 / 3.0 = 1.666666\n",
        "| `%`   | Modulous | 5 % 3 = 2 | Not applicable\n",
        "\n",
        "The first four operators are probably familiar to you. The last, modulous, gives you the remainder after integer division so for example, `y = 10/3` will return `y = 3` and `z = 10 % 3` will return 'z = 1`. Arithmetic operators can be used on any numeric data.\n",
        "\n",
        "\n",
        "Addition and multiplication operators can also by used on string data. Addition will concatenate (join) the string together. Multiplication will copy the strings. \n",
        "```\n",
        "text = \"Hello\" + \" \" + \"World\"\n",
        "repeatedText = 'Ha'*3\n",
        "```\n",
        "\n",
        "Try this in the code box below and experiment with it yourself."
      ]
    },
    {
      "cell_type": "code",
      "metadata": {
        "id": "VZjv_02a39zh"
      },
      "source": [
        ""
      ],
      "execution_count": null,
      "outputs": []
    },
    {
      "cell_type": "markdown",
      "metadata": {
        "id": "hBRR2jzS4KN2"
      },
      "source": [
        "# Modify it!\n",
        "\n",
        "Sometimes the result of an operation is interesting or perhaps even different from what you might expect. \n",
        "\n",
        "\n",
        "*   What happens when you multiply a string?\n",
        "*   What happens when you divide a number that produces a decimal result?\n",
        "\n",
        "\n",
        "For example:\n",
        "\n",
        "```python3\n",
        "division = 10 / 3\n",
        "multiplication = \"Hi\" * 2\n",
        "```\n",
        "\n",
        "Modify the program below to perform more operations and try a few things. Note that some operations may be impossible, such as when you subtract, add, or divide text by some value. These impossible operations will produce an error.\n"
      ]
    },
    {
      "cell_type": "code",
      "metadata": {
        "colab": {
          "base_uri": "https://localhost:8080/"
        },
        "id": "8jcyF1QJ4vUG",
        "outputId": "0e6e1a00-4641-4647-849e-efa7680e675e"
      },
      "source": [
        "division = 10 / 3\n",
        "multiplication = \"Hi\" * 2\n",
        "print(division)\n",
        "print(multiplication)"
      ],
      "execution_count": null,
      "outputs": [
        {
          "output_type": "stream",
          "name": "stdout",
          "text": [
            "3.3333333333333335\n",
            "HiHi\n"
          ]
        }
      ]
    },
    {
      "cell_type": "markdown",
      "metadata": {
        "id": "20XwimM37pxF"
      },
      "source": [
        "# Assignment Operators"
      ]
    },
    {
      "cell_type": "markdown",
      "metadata": {
        "id": "kwKU4zZ17xdZ"
      },
      "source": [
        "You have already used the '=' assignment operator several times. But there are other options as well. These are the shorthand operators. They take a variable, do an operation and assign the results back to the same variable. \n",
        "\n",
        "* `x += 3` means `x = x + 3`\n",
        "* `x -= 2` means `x = x - 2`\n",
        "* `x *= 5` means `x = x * 5`\n",
        "* `x /= 6` means `x = x / 6` \n",
        "* `x %= 4` means `x = x % 4`\n",
        "\n",
        "Try it out yourself!"
      ]
    },
    {
      "cell_type": "code",
      "metadata": {
        "id": "hqkSQ9JO-NXW"
      },
      "source": [
        ""
      ],
      "execution_count": 4,
      "outputs": []
    },
    {
      "cell_type": "markdown",
      "metadata": {
        "id": "15yBAefO-N4s"
      },
      "source": [
        "# Comparison Operators"
      ]
    },
    {
      "cell_type": "markdown",
      "metadata": {
        "id": "ldOeZY27-Xxc"
      },
      "source": [
        "You may find it useful, when reading code to use the word 'assigned' or 'gets' instead of the word 'equals' when you see an equation like `x = 2 + 3`. Equals in english can mean many things in code, and it is useful to be able to distinguish them verbally. \n",
        "\n",
        "When you want to compare two variables you can use any of the following. \n",
        "\n",
        "| Operator      | Comparison | Example |\n",
        "| ----------- | ----------- |--------|\n",
        "| `<`      | Less than | 2 < 3 is True |\n",
        "| `>`   | Greater than | 2 > 3 is False |\n",
        "| `==`   | Equal to | 2 == 3 is False |\n",
        "| `!=`   | Not equal to | 2 != 3 is True |\n",
        "| `<=`   | Less than or equal to | 2 <= 3 is True |\n",
        "| `>=`  | Greater than or equal to | 2>= 3 is False |\n",
        "\n",
        "The results of all these will be a `True` or `False` value, and is called a boolean expression. \n",
        "\n",
        "Try it out yourself!\n"
      ]
    },
    {
      "cell_type": "code",
      "metadata": {
        "id": "IsJn2C4IAuuN"
      },
      "source": [
        ""
      ],
      "execution_count": null,
      "outputs": []
    },
    {
      "cell_type": "markdown",
      "metadata": {
        "id": "ftuCsAvICT3u"
      },
      "source": [
        "# Exercises"
      ]
    },
    {
      "cell_type": "markdown",
      "metadata": {
        "id": "4QPB6nz_CWH2"
      },
      "source": [
        "Now that you know some basics about programming, try the following exercises.\n",
        "\n",
        "Here are some reminders from previous lessons\n",
        "`input (var)` will print the value of var, and them wait for user input.\n",
        "`int(var)` will convert a variable to an integer.\n",
        "`str(var)` will convert a variable to a string.\n",
        "`float(var)` will convert a variable to a decimal.\n",
        "`print(var)` will print the value of var.\n",
        "`print(var1, var2)` will print two (or more) variables on the same line."
      ]
    },
    {
      "cell_type": "markdown",
      "metadata": {
        "id": "tGPncH9jFiRw"
      },
      "source": [
        "## Exercise 1"
      ]
    },
    {
      "cell_type": "markdown",
      "metadata": {
        "id": "tJPHBgVxESCf"
      },
      "source": [
        "Can you write a program that will convert Fahrenheit temperatures to Celcius? What about the reverse?\n",
        "\n",
        "For a quick approximation to go from Fahrenheit to Celcius, subtract 32, then multiply by 5/9.\n"
      ]
    },
    {
      "cell_type": "code",
      "metadata": {
        "id": "4fjeh5OTETSc"
      },
      "source": [
        ""
      ],
      "execution_count": null,
      "outputs": []
    },
    {
      "cell_type": "markdown",
      "metadata": {
        "id": "lw-iw5OVFU2H"
      },
      "source": [
        "### Our solution"
      ]
    },
    {
      "cell_type": "markdown",
      "metadata": {
        "id": "tFvkjw19FZuQ"
      },
      "source": [
        "```\n",
        "f = 98.6\n",
        "c = (f - 32.0) * 5.0 / 9.0\n",
        "print (c)\n",
        "```"
      ]
    },
    {
      "cell_type": "markdown",
      "metadata": {
        "id": "5h2ru1HkFn_h"
      },
      "source": [
        "## Exercise 2\n"
      ]
    },
    {
      "cell_type": "markdown",
      "metadata": {
        "id": "-EjL1l_sFvja"
      },
      "source": [
        "Can you modify the exercise 1 to get the initial value from the user?"
      ]
    },
    {
      "cell_type": "code",
      "metadata": {
        "id": "8zNg0fuiFv-Y"
      },
      "source": [
        ""
      ],
      "execution_count": null,
      "outputs": []
    },
    {
      "cell_type": "markdown",
      "metadata": {
        "id": "KYwQfJBkFwJX"
      },
      "source": [
        "### Our solution"
      ]
    },
    {
      "cell_type": "markdown",
      "metadata": {
        "id": "vK5UMdcIFzni"
      },
      "source": [
        "```\n",
        "f = input ('Enter a Farenheit temperature: ')\n",
        "f = float(f)\n",
        "c = (f - 32.0) * 5.0 / 9.0\n",
        "print ('That is ', c, ' degrees in Celsius.')\n",
        "```"
      ]
    },
    {
      "cell_type": "markdown",
      "metadata": {
        "id": "htEJfqjZFsi-"
      },
      "source": [
        "## Exercise 3"
      ]
    },
    {
      "cell_type": "markdown",
      "metadata": {
        "id": "QcF1r6GhFura"
      },
      "source": [
        "Write a program to get two numbers from the user, and print out the product of those numbers."
      ]
    },
    {
      "cell_type": "code",
      "metadata": {
        "id": "QWIy2favF02v"
      },
      "source": [
        ""
      ],
      "execution_count": null,
      "outputs": []
    },
    {
      "cell_type": "markdown",
      "metadata": {
        "id": "I-JPlbbSF1BU"
      },
      "source": [
        "### Our Solution"
      ]
    },
    {
      "cell_type": "markdown",
      "metadata": {
        "id": "l7EBoewTF1TQ"
      },
      "source": [
        "```\n",
        "x = input('Enter a number: ')\n",
        "y = input('Enter another number: ')\n",
        "x = float(x)\n",
        "y = float(y)\n",
        "z = x * y \n",
        "print (x, ' * ', y, ' = ', z )\n",
        "```\n"
      ]
    }
  ]
}