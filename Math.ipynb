{
  "nbformat": 4,
  "nbformat_minor": 0,
  "metadata": {
    "colab": {
      "name": "Math.ipynb",
      "provenance": [],
      "toc_visible": true,
      "include_colab_link": true
    },
    "kernelspec": {
      "name": "python3",
      "display_name": "Python 3"
    },
    "language_info": {
      "name": "python"
    }
  },
  "cells": [
    {
      "cell_type": "markdown",
      "metadata": {
        "id": "view-in-github",
        "colab_type": "text"
      },
      "source": [
        "<a href=\"https://colab.research.google.com/github/UnknownGuardian/ipt-learning-python-prototype/blob/gh-pages/Math.ipynb\" target=\"_parent\"><img src=\"https://colab.research.google.com/assets/colab-badge.svg\" alt=\"Open In Colab\"/></a>"
      ]
    },
    {
      "cell_type": "markdown",
      "metadata": {
        "id": "E1xMIJ212YtV"
      },
      "source": [
        "# Operations\n",
        "\n",
        "Arithmetic operators, like `+`, `-`, `*`, and `/` exist in Python.\n",
        "\n",
        "Consider these ways we can use operators:\n",
        "\n",
        "```python3\n",
        "3 - 2\n",
        "\"Hello\" + \" \" + \"World\"\n",
        "```\n",
        "\n",
        "And we can combine variables with operators to store the result of the operation, like so:\n",
        "\n",
        "```python3\n",
        "sum = 3 - 2\n",
        "text = \"Hello\" + \" \" + \"World\"\n",
        "\n",
        "print(sum);\n",
        "print(text);\n",
        "```\n",
        "\n",
        "Type this program in the code box below and run it for yourself."
      ]
    },
    {
      "cell_type": "code",
      "metadata": {
        "id": "VZjv_02a39zh"
      },
      "source": [
        ""
      ],
      "execution_count": 12,
      "outputs": []
    },
    {
      "cell_type": "markdown",
      "metadata": {
        "id": "hBRR2jzS4KN2"
      },
      "source": [
        "# Modify it!\n",
        "\n",
        "Sometimes the result of an operation is interesting or perhaps even different from what you might expect. \n",
        "\n",
        "\n",
        "*   What happens when you multiply a string?\n",
        "*   What happens when you divide a number that produces a decimal result?\n",
        "\n",
        "\n",
        "For example:\n",
        "\n",
        "```python3\n",
        "division = 10 / 3\n",
        "multiplication = \"Hi\" * 2\n",
        "```\n",
        "\n",
        "Modify the program below to perform more operations and try a few things. Note that some operations may be impossible, such as when you subtract, add, or divide text by some value. These impossible operations will produce an error.\n"
      ]
    },
    {
      "cell_type": "code",
      "metadata": {
        "id": "8jcyF1QJ4vUG",
        "outputId": "0e6e1a00-4641-4647-849e-efa7680e675e",
        "colab": {
          "base_uri": "https://localhost:8080/"
        }
      },
      "source": [
        "division = 10 / 3\n",
        "multiplication = \"Hi\" * 2\n",
        "print(division)\n",
        "print(multiplication)"
      ],
      "execution_count": 12,
      "outputs": [
        {
          "output_type": "stream",
          "name": "stdout",
          "text": [
            "3.3333333333333335\n",
            "HiHi\n"
          ]
        }
      ]
    }
  ]
}