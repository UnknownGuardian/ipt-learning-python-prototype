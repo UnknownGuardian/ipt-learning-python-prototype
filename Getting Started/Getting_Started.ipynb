{
  "nbformat": 4,
  "nbformat_minor": 0,
  "metadata": {
    "colab": {
      "name": "Getting Started.ipynb",
      "provenance": [],
      "authorship_tag": "ABX9TyOooWI6DNd1R76eq2xOGpwE",
      "include_colab_link": true
    },
    "kernelspec": {
      "name": "python3",
      "display_name": "Python 3"
    },
    "language_info": {
      "name": "python"
    }
  },
  "cells": [
    {
      "cell_type": "markdown",
      "metadata": {
        "id": "view-in-github",
        "colab_type": "text"
      },
      "source": [
        "<a href=\"https://colab.research.google.com/github/UnknownGuardian/ipt-learning-python-prototype/blob/gh-pages/Getting%20Started/Getting_Started.ipynb\" target=\"_parent\"><img src=\"https://colab.research.google.com/assets/colab-badge.svg\" alt=\"Open In Colab\"/></a>"
      ]
    },
    {
      "cell_type": "markdown",
      "metadata": {
        "id": "QIs6wOfgBIPL"
      },
      "source": [
        "([Table of Contents](https://github.com/UnknownGuardian/ipt-learning-python-prototype/blob/gh-pages/index.md))\n",
        "# Getting started with Google Colab\n",
        "\n",
        "This course uses Google colab so that you can see your instructions and your code in the same notebook.\n",
        "\n",
        "The first thing that you should do is click the \"Copy to drive\" button in the menu above. That will make a copy of this notebook in your personal google directory. You can find it again by going to Google Drive and finding the folder \"Colab notebooks\".  If you come back to this lesson from the table of contents, it will give you a brand new copy of the notebook.\n",
        "\n",
        "All of the lessons in this course will use the same format, so this lesson will get you familiar with it."
      ]
    },
    {
      "cell_type": "markdown",
      "metadata": {
        "id": "oIj9ob7TRRFd"
      },
      "source": [
        "We will give you example code that looks like this:\n",
        "```\n",
        "# this is a code example.\n",
        "x = 3 \n",
        "```\n",
        "You cannot type in the sample code box. When we ask you to type in code, you can type it in one of the code boxes. A code box starts with brackets [ ] and if you click in it, or mouse over it, you will get a play button. The play button will allow you to run the code that is in that box. If you don't see a play button when you mouse over a code block, then it is just sample code, not runnable code. The first time that you try to run code in these lessons, you will get a popup warning that 'This notebook is not authored by Google.' If you trust us, then click OK.\n",
        "\n",
        "When we tell you to copy code, you should type it in exactly as shown. If you copy/paste you will not learn as much.\n"
      ]
    },
    {
      "cell_type": "code",
      "metadata": {
        "id": "j_r7Bzt_RSU_",
        "outputId": "85a1f44f-1188-4113-fa31-418bc3705071",
        "colab": {
          "base_uri": "https://localhost:8080/"
        }
      },
      "source": [
        "# This is a code box. You can type code here and run it.\n",
        "# This line, and the one above are comments. Comments in Python start with the # sign.\n",
        "\n",
        "'This is a string. Strings in Python start and end with quotes.'\n",
        "\"This is also a string. Single quotes and double quotes both work.\"\n",
        "\n",
        "x = input('Enter a word: ')\n",
        "print (x)\n"
      ],
      "execution_count": 1,
      "outputs": [
        {
          "output_type": "stream",
          "name": "stdout",
          "text": [
            "Enter a word: jkljkl\n",
            "jkljkl\n"
          ]
        }
      ]
    },
    {
      "cell_type": "markdown",
      "metadata": {
        "id": "WRmtRj20UE-S"
      },
      "source": [
        "Notice that in the code box above the comments, the strings, the function call (input) and the rest of the code are in different colors. This will help you identify different parts of your code. \n",
        "\n",
        "Line numbers will also help you find parts of your code, especially when there is an error. Go to the \"Tools->Settings\" menu, or clic on the gear icon in the top right corner. Choose \"Editor\" on the left. Find the checkbox for \"Show Line Numbers\" to choose if you want line numbers to show automatically or not. Test it both ways to see how the code box above changes.\n",
        "\n"
      ]
    },
    {
      "cell_type": "markdown",
      "metadata": {
        "id": "N91fHR9AWvaY"
      },
      "source": [
        "# Hello World\n",
        "\n"
      ]
    },
    {
      "cell_type": "code",
      "metadata": {
        "id": "jTQVJeCiRUHP"
      },
      "source": [
        ""
      ],
      "execution_count": null,
      "outputs": []
    },
    {
      "cell_type": "code",
      "metadata": {
        "id": "iNQUl5EaRVKk"
      },
      "source": [
        ""
      ],
      "execution_count": null,
      "outputs": []
    }
  ]
}