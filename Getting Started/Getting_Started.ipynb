{
  "nbformat": 4,
  "nbformat_minor": 0,
  "metadata": {
    "colab": {
      "name": "Getting Started.ipynb",
      "provenance": [],
      "authorship_tag": "ABX9TyNiM5wzcN7pPUc+cGpRTPXx",
      "include_colab_link": true
    },
    "kernelspec": {
      "name": "python3",
      "display_name": "Python 3"
    },
    "language_info": {
      "name": "python"
    }
  },
  "cells": [
    {
      "cell_type": "markdown",
      "metadata": {
        "id": "view-in-github",
        "colab_type": "text"
      },
      "source": [
        "<a href=\"https://colab.research.google.com/github/UnknownGuardian/ipt-learning-python-prototype/blob/gh-pages/Getting%20Started/Getting_Started.ipynb\" target=\"_parent\"><img src=\"https://colab.research.google.com/assets/colab-badge.svg\" alt=\"Open In Colab\"/></a>"
      ]
    },
    {
      "cell_type": "markdown",
      "metadata": {
        "id": "QIs6wOfgBIPL"
      },
      "source": [
        "# Getting started with Google Colab\n",
        "\n",
        "This course uses Google colab so that you can see your instructions and your code in the same notebook.\n",
        "\n",
        "The first thing that you should do is click the \"Copy to drive\" button in the menu above. That will make a copy of this notebook in your personal google directory. You can find it again by going to Google Drive and finding the folder \"Colab notebooks\".  All of the lessons in this course will use the same format, so this lesson will get you familiar with it."
      ]
    }
  ]
}