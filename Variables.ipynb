{
  "nbformat": 4,
  "nbformat_minor": 0,
  "metadata": {
    "colab": {
      "name": "Variables.ipynb",
      "provenance": [],
      "authorship_tag": "ABX9TyMVPBw+Cyg+dB2OyHjE1Nde",
      "include_colab_link": true
    },
    "kernelspec": {
      "name": "python3",
      "display_name": "Python 3"
    },
    "language_info": {
      "name": "python"
    }
  },
  "cells": [
    {
      "cell_type": "markdown",
      "metadata": {
        "id": "view-in-github",
        "colab_type": "text"
      },
      "source": [
        "<a href=\"https://colab.research.google.com/github/UnknownGuardian/ipt-learning-python-prototype/blob/gh-pages/Variables.ipynb\" target=\"_parent\"><img src=\"https://colab.research.google.com/assets/colab-badge.svg\" alt=\"Open In Colab\"/></a>"
      ]
    },
    {
      "cell_type": "markdown",
      "metadata": {
        "id": "TAwKuk0dtUVP"
      },
      "source": [
        "# Variables\n",
        "\n"
      ]
    },
    {
      "cell_type": "markdown",
      "metadata": {
        "id": "_bCMR2W2wdi1"
      },
      "source": [
        "Using the first _Hello World Program_ that you made, we will introduce the concept of variables.\n",
        "\n",
        "> A variable is a named item used to hold a value.\n",
        "\n",
        "Consider these variables, which hold text values:\n",
        "\n",
        "```python3\n",
        "name = \"Matt\"\n",
        "otherName = \"Barbara\"\n",
        "```\n",
        "\n",
        "Alternatively, variables can hold number values\n",
        "\n",
        "```python3\n",
        "age = 27\n",
        "hoursInADay = 24\n",
        "```\n",
        "\n",
        "A variable can be substituted where we used `\"Hello World\"` in the original program.\n",
        "\n",
        "```python3\n",
        "print(\"Hello World\")\n",
        "\n",
        "message = \"Hello World\"\n",
        "print(message)\n",
        "```\n",
        "\n",
        "Type this this program in the code box below and run it for yourself."
      ]
    },
    {
      "cell_type": "code",
      "metadata": {
        "id": "03N2Z1v0uVRZ"
      },
      "source": [
        ""
      ],
      "execution_count": null,
      "outputs": []
    },
    {
      "cell_type": "markdown",
      "metadata": {
        "id": "ZDjuXqr0u2sl"
      },
      "source": [
        "## Modify it!\n"
      ]
    },
    {
      "cell_type": "markdown",
      "metadata": {
        "id": "pwiSOONxvu8H"
      },
      "source": [
        "\n",
        "Change the value of the variable from \"Hello World\" to some other text value (called a string in Python). Run the program to see that it now prints Hello World and your new text.\n",
        "\n",
        "**Modify it again!**\n",
        "\n",
        "We can form a more interesting, complete program with a little more effort.\n",
        "\n",
        "Change your program to have 3 variables, `messageStart`, `messageBody`, `messageEnd` with the values `\"Hi there.\"`, `\"I hope you are having a great day today!\"`, and `\"I will see you tomorrow.\"`. Then print each of these variables out, like we did previously in this exercise.\n",
        "\n",
        "Run your program to show that it works! You should see\n",
        "\n",
        "```\n",
        ">> Hi there.\n",
        ">> I hope you are having a great day today!\n",
        ">> I will see you tomorrow.\n",
        "```\n"
      ]
    },
    {
      "cell_type": "code",
      "metadata": {
        "id": "V6LXvnPUtIsg"
      },
      "source": [
        ""
      ],
      "execution_count": null,
      "outputs": []
    },
    {
      "cell_type": "markdown",
      "metadata": {
        "id": "nwr8lw-mvYyQ"
      },
      "source": [
        "Our solution is hidden in the text cell below. To reveal it, click on the triangle next to 'Check against our solution'\n"
      ]
    },
    {
      "cell_type": "markdown",
      "metadata": {
        "id": "TfD6mwT1vHer"
      },
      "source": [
        "\n",
        "### Check against our solution:\n"
      ]
    },
    {
      "cell_type": "markdown",
      "metadata": {
        "id": "JI8wKwKtvSD-"
      },
      "source": [
        "Here is an example program we wrote to do just this. The ordering of your print statements and variables may be slightly different, but produces the same output.\n",
        "\n",
        "```python3\n",
        "messageStart = \"Hi there.\"\n",
        "messageBody = \"I hope you are having a great day today!\"\n",
        "messageEnd = \"I will see you tomorrow.\"\n",
        "print(messageStart)\n",
        "print(messageBody)\n",
        "print(messageEnd)\n",
        "```\n"
      ]
    },
    {
      "cell_type": "markdown",
      "metadata": {
        "id": "6KJ7KixWvNum"
      },
      "source": [
        "\n",
        "## Congratulations\n",
        "\n",
        "You've just finished your second program and modified it to accomplish a task. You know a little bit about variables now, which we will teach more about in the next lesson. Variables will be used frequently in future exercises, so take the time to understand them."
      ]
    }
  ]
}