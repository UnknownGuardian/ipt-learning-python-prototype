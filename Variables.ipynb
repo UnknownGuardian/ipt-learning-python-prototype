{
  "nbformat": 4,
  "nbformat_minor": 0,
  "metadata": {
    "colab": {
      "name": "Variables.ipynb",
      "provenance": [],
      "authorship_tag": "ABX9TyP9Uv229LzwNjdXmAc1HcEa",
      "include_colab_link": true
    },
    "kernelspec": {
      "name": "python3",
      "display_name": "Python 3"
    },
    "language_info": {
      "name": "python"
    }
  },
  "cells": [
    {
      "cell_type": "markdown",
      "metadata": {
        "id": "view-in-github",
        "colab_type": "text"
      },
      "source": [
        "<a href=\"https://colab.research.google.com/github/UnknownGuardian/ipt-learning-python-prototype/blob/gh-pages/Variables.ipynb\" target=\"_parent\"><img src=\"https://colab.research.google.com/assets/colab-badge.svg\" alt=\"Open In Colab\"/></a>"
      ]
    },
    {
      "cell_type": "markdown",
      "metadata": {
        "id": "TAwKuk0dtUVP"
      },
      "source": [
        "---\n",
        "layout: default\n",
        "title: Variables Exercise\n",
        "description: Hello World using string variables\n",
        "---\n",
        "\n",
        "## Variables\n",
        "\n",
        "Using the first _Hello World Program_ that you made, we will introduce the concept of variables.\n",
        "\n",
        "> A variable is a named item used to hold a value.\n",
        "\n",
        "Consider these variables, which hold text values:\n",
        "\n",
        "```python3\n",
        "name = \"Matt\"\n",
        "otherName = \"Barbara\"\n",
        "```\n",
        "\n",
        "Alternatively, variables can hold number values\n",
        "\n",
        "```python3\n",
        "age = 27\n",
        "hoursInADay = 24\n",
        "```\n",
        "\n",
        "A variable can be substituted where we used `\"Hello World\"` in the original program.\n",
        "\n",
        "```python3\n",
        "print(\"Hello World\")\n",
        "\n",
        "message = \"Hello World\"\n",
        "print(message)\n",
        "```\n",
        "\n",
        "Which prints:\n",
        "\n",
        "```\n",
        ">> Hello World\n",
        ">> Hello World\n",
        "```\n",
        "\n",
        "## Run it!\n",
        "\n",
        "[Open our Colab notebook](https://colab.research.google.com/drive/11dCzzMtvXhR7zVzfs9sRJlzds85qsZlk?usp=sharing) to run this program for yourself. Press the play button, to the left of the code block, to run the program. After pressing the play button, you should see the program run and produce an output, like this:\n",
        "\n",
        "![Hello World Program in Google Colab](../img/variables/program-output.png \"San Juan Mountains\")\n",
        "\n",
        "## Modify it!\n",
        "\n",
        "Change the value of the variable from \"Hello World\" to some other text value (called a string in Python). Run the program to see that it now prints Hello World and your new text.\n",
        "\n",
        "## Modify it again!\n",
        "\n",
        "We can form a more interesting, complete program with a little more effort.\n",
        "\n",
        "Change your program to have 3 variables, `messageStart`, `messageBody`, `messageEnd` with the values `\"Hi there.\"`, `\"I hope you are having a great day today!\"`, and `\"I will see you tomorrow.\"`. Then print each of these variables out, like we did previously in this exercise.\n",
        "\n",
        "Run your program to show that it works! You should see\n",
        "\n",
        "```\n",
        ">> Hi there.\n",
        ">> I hope you are having a great day today!\n",
        ">> I will see you tomorrow.\n",
        "```\n",
        "\n",
        "### Check against our solution:\n",
        "\n",
        "Here is an example program we wrote to do just this. The ordering of your print statements and variables may be slightly different, but produces the same output.\n",
        "\n",
        "```python3\n",
        "messageStart = \"Hi there.\"\n",
        "messageBody = \"I hope you are having a great day today!\"\n",
        "messageEnd = \"I will see you tomorrow.\"\n",
        "print(messageStart)\n",
        "print(messageBody)\n",
        "print(messageEnd)\n",
        "```\n",
        "\n",
        "## Congratulations\n",
        "\n",
        "You've just finished your second program and modified it to accomplish a task. You know a little bit about variables now, which we will teach more about in the next lesson. Variables will be used frequently in future exercises, so take the time to understand them.\n"
      ]
    },
    {
      "cell_type": "code",
      "metadata": {
        "id": "V6LXvnPUtIsg"
      },
      "source": [
        ""
      ],
      "execution_count": null,
      "outputs": []
    }
  ]
}