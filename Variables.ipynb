{
  "nbformat": 4,
  "nbformat_minor": 0,
  "metadata": {
    "colab": {
      "name": "Variables.ipynb",
      "provenance": [],
      "include_colab_link": true
    },
    "kernelspec": {
      "name": "python3",
      "display_name": "Python 3"
    },
    "language_info": {
      "name": "python"
    }
  },
  "cells": [
    {
      "cell_type": "markdown",
      "metadata": {
        "id": "view-in-github",
        "colab_type": "text"
      },
      "source": [
        "<a href=\"https://colab.research.google.com/github/UnknownGuardian/ipt-learning-python-prototype/blob/gh-pages/Variables.ipynb\" target=\"_parent\"><img src=\"https://colab.research.google.com/assets/colab-badge.svg\" alt=\"Open In Colab\"/></a>"
      ]
    },
    {
      "cell_type": "markdown",
      "metadata": {
        "id": "TAwKuk0dtUVP"
      },
      "source": [
        "([Table of Contents](https://unknownguardian.github.io/ipt-learning-python-prototype/))\n",
        "\n",
        "# Variables\n",
        "\n"
      ]
    },
    {
      "cell_type": "markdown",
      "metadata": {
        "id": "_bCMR2W2wdi1"
      },
      "source": [
        "Using the first _Hello World Program_ that you made, we will introduce the concept of variables.\n",
        "\n",
        "> A variable is a named item used to hold a value.\n",
        "\n",
        "Consider these variables, which hold text values:\n",
        "\n",
        "```python\n",
        "name = \"Matt\"\n",
        "otherName = \"Barbara\"\n",
        "```\n",
        "\n",
        "Alternatively, variables can hold number values\n",
        "\n",
        "```python\n",
        "age = 27\n",
        "hoursInADay = 24\n",
        "```\n",
        "\n",
        "A variable can be substituted where we used `\"Hello World\"` in the original program.\n",
        "\n",
        "```python\n",
        "# this line of code:\n",
        "print(\"Hello World\")\n",
        "\n",
        "\n",
        "# is equivalent to this:\n",
        "message = \"Hello World\"\n",
        "print(message)\n",
        "```\n",
        "\n",
        "Type this this program in the code box below and run it for yourself."
      ]
    },
    {
      "cell_type": "code",
      "metadata": {
        "id": "03N2Z1v0uVRZ"
      },
      "source": [
        "# write your code here"
      ],
      "execution_count": null,
      "outputs": []
    },
    {
      "cell_type": "markdown",
      "metadata": {
        "id": "ZDjuXqr0u2sl"
      },
      "source": [
        "# Modify it!\n"
      ]
    },
    {
      "cell_type": "markdown",
      "metadata": {
        "id": "pwiSOONxvu8H"
      },
      "source": [
        "\n",
        "Change the value of the variable from \"Hello World\" to some other text value (called a string in Python). Run the program to see that it now prints Hello World and your new text.\n",
        "\n",
        "**Modify it again!**\n",
        "\n",
        "We can form a more interesting, complete program with a little more effort.\n",
        "\n",
        "Change your program to have 3 variables, `messageStart`, `messageBody`, `messageEnd` with the values `\"Hi there.\"`, `\"I hope you are having a great day today!\"`, and `\"I will see you tomorrow.\"`. Then print each of these variables out, like we did previously in this exercise.\n",
        "\n",
        "Run your program to show that it works! You should see\n",
        "\n",
        "```\n",
        ">> Hi there.\n",
        ">> I hope you are having a great day today!\n",
        ">> I will see you tomorrow.\n",
        "```\n",
        "As you plan your program, think about the following: What data do you need? What do you want to do with it? What is the best order to do that in?\n"
      ]
    },
    {
      "cell_type": "code",
      "metadata": {
        "id": "V6LXvnPUtIsg"
      },
      "source": [
        ""
      ],
      "execution_count": null,
      "outputs": []
    },
    {
      "cell_type": "markdown",
      "metadata": {
        "id": "nwr8lw-mvYyQ"
      },
      "source": [
        "Our solution is hidden in the text cell below. To reveal it, click on the triangle next to 'Check against our solution'\n"
      ]
    },
    {
      "cell_type": "markdown",
      "metadata": {
        "id": "TfD6mwT1vHer"
      },
      "source": [
        "\n",
        "### Check against our solution:\n"
      ]
    },
    {
      "cell_type": "markdown",
      "metadata": {
        "id": "JI8wKwKtvSD-"
      },
      "source": [
        "Here is an example program we wrote to do just this. The ordering of your print statements and variables may be slightly different, but produces the same output.\n",
        "\n",
        "```python\n",
        "messageStart = \"Hi there.\"\n",
        "messageBody = \"I hope you are having a great day today!\"\n",
        "messageEnd = \"I will see you tomorrow.\"\n",
        "print(messageStart)\n",
        "print(messageBody)\n",
        "print(messageEnd)\n",
        "```\n"
      ]
    },
    {
      "cell_type": "markdown",
      "metadata": {
        "id": "6KJ7KixWvNum"
      },
      "source": [
        "# Types"
      ]
    },
    {
      "cell_type": "markdown",
      "metadata": {
        "id": "Wh6Npcck42BP"
      },
      "source": [
        "Variables can have different types, depending upon what is stored in the variable. \n",
        "* Integers hold whole numbers (positive or negative). The largest number that an integer can hold is 2147483647. \n",
        "* Strings hold sequences of letters, digits, and symbols. Anything that you can type on a keyboard can be stored in strings. Strings can be any length.\n",
        "* Floats hold numbers that contain a decimal point. \n",
        "* Booleans hold True or False\n",
        "\n",
        "All of the above types only hold one piece of data. There are other, more complex types that can hold more than one piece of data. \n",
        "\n",
        "Lets play with some variables! Type in the following code: \n",
        "```python\n",
        "x = 2\n",
        "y = 2.0\n",
        "x == y\n",
        "```\n",
        "This code creates a variable called x with an integer value of 2. Then it creates a variable called y with a float value that of '2'. Then it asks if they are equal. What do you think will happen? Run it and see.\n"
      ]
    },
    {
      "cell_type": "code",
      "metadata": {
        "id": "mRAEpmOM_WwA"
      },
      "source": [
        ""
      ],
      "execution_count": null,
      "outputs": []
    },
    {
      "cell_type": "markdown",
      "metadata": {
        "id": "-gnyEpFJ_bwH"
      },
      "source": [
        "Even though the variables are of different types, the program knows how to compare them, they are both numeric values, so Python automatically converts them into the same type."
      ]
    },
    {
      "cell_type": "markdown",
      "metadata": {
        "id": "h_PWhWky_VRA"
      },
      "source": [
        "Now try this program.\n",
        "```python\n",
        "x = 2\n",
        "y = '2'\n",
        "y == x\n",
        "```\n",
        "This code creates a variable called x with an integer value of 2. Then it creates a variable called y with a string value that has the character '2'. Then it asks if they are equal. What do you think will happen? Run it and see.\n"
      ]
    },
    {
      "cell_type": "code",
      "metadata": {
        "id": "9otL2jZx98ij"
      },
      "source": [
        ""
      ],
      "execution_count": null,
      "outputs": []
    },
    {
      "cell_type": "markdown",
      "metadata": {
        "id": "G0ork9qu89v9"
      },
      "source": [
        "As you can see, the computer thinks that the two variables are different. That is because they are of different types, and it doesn't know how to compare them. In order to make it work, you have to convert one of the variables into the same type as the other variable. The function `str()` can convert a number into a string. If we add the line `x = str(x)` before the comparison (line 3), then it works. Or we could turn y into an integer with the `y = int(y)`. The `int()` function would break if you passed in a string that didn't have numbers. In this case, we know that it does have numbers, so we can use it. Don't use both functions, or you have the same problem.\n",
        "\n"
      ]
    },
    {
      "cell_type": "code",
      "metadata": {
        "id": "V-_E3fuKBQug"
      },
      "source": [
        ""
      ],
      "execution_count": null,
      "outputs": []
    },
    {
      "cell_type": "markdown",
      "metadata": {
        "id": "avcAF65sDt_C"
      },
      "source": [
        "If you don't know what type a variable is, you can use the `type()` function:\n",
        "```python\n",
        "x = '27'\n",
        "print(type(x))\n",
        "```\n",
        "Try it!"
      ]
    },
    {
      "cell_type": "code",
      "metadata": {
        "id": "bgJqMsDDD453"
      },
      "source": [
        "# write your code here"
      ],
      "execution_count": null,
      "outputs": []
    },
    {
      "cell_type": "markdown",
      "metadata": {
        "id": "c_OZtiXdp4b9"
      },
      "source": [
        "# Input"
      ]
    },
    {
      "cell_type": "markdown",
      "metadata": {
        "id": "sNPk_gtip6xO"
      },
      "source": [
        "When you want to get information from the user, you will use the `input(prompt)` function. The prompt is a string that you will display to the user, it can be a variable, as we show below, but more often it is not. The result, whatever the user types in, needs to be assigned to a variable.\n",
        "Example:\n",
        "```python\n",
        "# the first prompt is a string literal. The result is stored in a variable called name.\n",
        "name = input('What is your name? ') \n",
        "# the second prompt uses the variable name to compose a new prompt.\n",
        "prompt = 'Hello ' + name +'. What is your age? ' \n",
        "age = input(prompt)\n",
        "print('It is very nice to meet ', name, '. Who is ', age, ' years old.')\n",
        "```"
      ]
    },
    {
      "cell_type": "code",
      "metadata": {
        "id": "NWn7kGkJsGJJ"
      },
      "source": [
        ""
      ],
      "execution_count": null,
      "outputs": []
    },
    {
      "cell_type": "markdown",
      "metadata": {
        "id": "XbBBvZ02DND7"
      },
      "source": [
        "# Quiz"
      ]
    },
    {
      "cell_type": "markdown",
      "metadata": {
        "id": "pvD2vrDtDSUG"
      },
      "source": [
        "In the first lesson, we showed you a comment. Comments start with the # sign.\n",
        "In the code box below add a comment telling what type each variable is. \n"
      ]
    },
    {
      "cell_type": "code",
      "metadata": {
        "id": "QYCnygPoEM8f"
      },
      "source": [
        "a = 13\n",
        "b = 'False'\n",
        "c = 42.3\n",
        "d = True\n",
        "e = '90210'\n",
        "f = 90210\n",
        "g = \"0.2\"\n",
        "h = 16-5 "
      ],
      "execution_count": null,
      "outputs": []
    },
    {
      "cell_type": "markdown",
      "metadata": {
        "id": "gBusMBKJFTuH"
      },
      "source": [
        "### Check your answers"
      ]
    },
    {
      "cell_type": "markdown",
      "metadata": {
        "id": "nCENUxK2Fc-M"
      },
      "source": [
        "```python\n",
        "a = 13        # integer\n",
        "b = 'False'   # string\n",
        "c = 42.3      # float\n",
        "d = True      # boolean\n",
        "e = '90210'   # string\n",
        "f = 90210     # integer\n",
        "g = \"0.2\"     # string\n",
        "h = 16-5      # integer (it will do the math and store 11)\n",
        "```\n"
      ]
    }
  ]
}