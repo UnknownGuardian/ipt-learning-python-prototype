{
  "nbformat": 4,
  "nbformat_minor": 0,
  "metadata": {
    "colab": {
      "name": "Loops",
      "provenance": [],
      "include_colab_link": true
    },
    "kernelspec": {
      "name": "python3",
      "display_name": "Python 3"
    },
    "language_info": {
      "name": "python"
    }
  },
  "cells": [
    {
      "cell_type": "markdown",
      "metadata": {
        "id": "view-in-github",
        "colab_type": "text"
      },
      "source": [
        "<a href=\"https://colab.research.google.com/github/UnknownGuardian/ipt-learning-python-prototype/blob/gh-pages/Loops.ipynb\" target=\"_parent\"><img src=\"https://colab.research.google.com/assets/colab-badge.svg\" alt=\"Open In Colab\"/></a>"
      ]
    },
    {
      "cell_type": "markdown",
      "metadata": {
        "id": "qU9Epuf-rgkm"
      },
      "source": [
        "# Loops"
      ]
    },
    {
      "cell_type": "markdown",
      "metadata": {
        "id": "tEqwKJeIWUxF"
      },
      "source": [
        "Loops are essential to many programs because they allow a piece of code to be run an arbitrary amount of times. Consider a program which adds up the age of everyone in your family - a loop could be used to consider each member of the family individually and add their age to a tally until you have finished adding all family members.\n",
        "\n",
        "Consider this example Python Loop, which prints the numbers 0 up to 5, non-inclusive:\n",
        "\n",
        "```python\n",
        "for number in range(5):\n",
        "  print(number)\n",
        "```\n",
        "\n",
        "```\n",
        ">> 0\n",
        ">> 1\n",
        ">> 2\n",
        ">> 3\n",
        ">> 4\n",
        "```\n",
        "\n",
        "Notice the structure of the loop: First, the keyword `for`, then the variable name `number` and the range that the variable will cover, and a colon ':'. Like the `if` statements, the lines that are part of the loop are indented.\n",
        "\n",
        "We could change this program to print 0 to 10, non-inclusive, by modifying the `5` to become a `10`.\n",
        "\n",
        "```python\n",
        "for number in range(10):\n",
        "  print(number)\n",
        "```\n"
      ]
    },
    {
      "cell_type": "markdown",
      "metadata": {
        "id": "WUB_1_7HZx3y"
      },
      "source": [
        "## Modify It!\n",
        "\n",
        "Change the program which prints 0 to 10 to sum up the values from 0 to 10, non-inclusive, and prints their sum at the end of the program. We've included a copy of the program in the code block below, so you can modify it there.\n",
        "\n",
        "The structure of the program might look like this:\n",
        "\n",
        "```\n",
        "set sum to zero\n",
        "loop over numbers\n",
        "  add the number to sum\n",
        "print sum\n",
        "```"
      ]
    },
    {
      "cell_type": "code",
      "metadata": {
        "id": "H7cVOFOCXTDk"
      },
      "source": [
        "# write your code here"
      ],
      "execution_count": null,
      "outputs": []
    },
    {
      "cell_type": "markdown",
      "metadata": {
        "id": "zcVEgVC-rWie"
      },
      "source": [
        "### Our solution"
      ]
    },
    {
      "cell_type": "markdown",
      "metadata": {
        "id": "jZ8HGsAjaCGs"
      },
      "source": [
        "\n",
        "\n",
        "```python\n",
        "sum = 0\n",
        "for number in range(10):\n",
        "  sum = sum + number\n",
        "print(sum)\n",
        "```\n",
        "\n",
        "and produces this output:\n",
        "\n",
        "```\n",
        ">> 45\n",
        "```"
      ]
    },
    {
      "cell_type": "markdown",
      "metadata": {
        "id": "ic4twRCWrnCZ"
      },
      "source": [
        "# More loops"
      ]
    },
    {
      "cell_type": "markdown",
      "metadata": {
        "id": "OlVNAi52rpiC"
      },
      "source": [
        "The for loop shown above works great when you know ahead of time how many times you want to execute the loop. A `while` loop lets you decided on the fly when you want to stop. \n",
        "\n",
        "The same program as shown above can be rewritten as in this example:\n",
        "```python\n",
        "number = 0\n",
        "while number < 5 :\n",
        "  print(number)\n",
        "  number += 1\n",
        "```\n",
        "Notice, that once again, the lines inside the loop are indented.\n",
        "This time, we had to set the 'number' variable to a good starting value, that is called initializing it. Then we tested the value at the beginning of the loop with a boolean expression, just like an if statement. Inside the loop we did the print, and whatever other work we want, then we incremented (added 1) to the value of `number`. The `for` loop shown above does a lot of the work for you. And for that reason, it is the more common loop. But it isn't as versatile as the `while` loop, and sometimes, it just doesn't work."
      ]
    },
    {
      "cell_type": "markdown",
      "metadata": {
        "id": "FYxGErl10sNv"
      },
      "source": [
        "## Exercises"
      ]
    },
    {
      "cell_type": "markdown",
      "metadata": {
        "id": "dRYjw_W33RXN"
      },
      "source": [
        "## Exercise 1"
      ]
    },
    {
      "cell_type": "markdown",
      "metadata": {
        "id": "aOtnOjOo3WSR"
      },
      "source": [
        "Write a program that prints out the numbers 1 - 100 with 10 numbers on each line.\n",
        "\n",
        "Hint: Start with an empty string. Loop through the numbers, adding them one by one, and print the line when you have 10 numbers on a line. Then reset it. Use the '%' operator to know when you have 10 numbers on a line.\n"
      ]
    },
    {
      "cell_type": "code",
      "metadata": {
        "id": "4rrlYxKewsw4"
      },
      "source": [
        "# write your code here"
      ],
      "execution_count": null,
      "outputs": []
    },
    {
      "cell_type": "markdown",
      "metadata": {
        "id": "5xaUGhBn3DDT"
      },
      "source": [
        "### Our solution"
      ]
    },
    {
      "cell_type": "markdown",
      "metadata": {
        "id": "yCaixCdr3XU4"
      },
      "source": [
        "```python\n",
        "i = 1\n",
        "line = ''\n",
        "while i <= 100:\n",
        "  line = line + str(i) + ' '\n",
        "  if i % 10 == 0:\n",
        "    print(line)\n",
        "    line = ''\n",
        "  i += 1\n",
        "  ```"
      ]
    },
    {
      "cell_type": "markdown",
      "metadata": {
        "id": "BY7RyF_73MNJ"
      },
      "source": [
        "## Exercise 2"
      ]
    },
    {
      "cell_type": "markdown",
      "metadata": {
        "id": "0A_Pg8uW55R2"
      },
      "source": [
        "Print out the multiplication table for 1 - 12. To help you line up the columns, use the `str.center(size)` function as shown:\n",
        "```\n",
        "num = 3\n",
        "num = str(num).center(5)\n",
        "```\n"
      ]
    },
    {
      "cell_type": "code",
      "metadata": {
        "id": "XoRghRUA56U5"
      },
      "source": [
        "# write your code here"
      ],
      "execution_count": null,
      "outputs": []
    },
    {
      "cell_type": "markdown",
      "metadata": {
        "id": "bxHU0NTl8GOK"
      },
      "source": [
        "### Our solution"
      ]
    },
    {
      "cell_type": "markdown",
      "metadata": {
        "id": "nJgYQ_pA56xE"
      },
      "source": [
        "```python\n",
        "for i in range(1, 13):\n",
        "  line = ''\n",
        "  for j in range(1, 13):\n",
        "    line += str(j*i).center(5)\n",
        "  print(line)\n",
        "  ```"
      ]
    },
    {
      "cell_type": "markdown",
      "metadata": {
        "id": "t1BoGdNr528C"
      },
      "source": [
        "## Exercise 3"
      ]
    },
    {
      "cell_type": "markdown",
      "metadata": {
        "id": "qxOrlc6y0unR"
      },
      "source": [
        "Write a game that asks the user to guess a random number between 1 and 100. Tell the user if their guess is higher or lower than the random number. Let them keep guessing until they have the right number.  \n",
        "The code for generating a random number is shown below. Make sure that the import statement is the first line of the program.\n",
        "\n",
        "```python\n",
        "import random\n",
        "r = random.randrange(100)\n",
        "```"
      ]
    },
    {
      "cell_type": "code",
      "metadata": {
        "id": "uBCQqfJv3W3f"
      },
      "source": [
        "# write your code here"
      ],
      "execution_count": null,
      "outputs": []
    },
    {
      "cell_type": "markdown",
      "metadata": {
        "id": "2SpnJdXm3Xmz"
      },
      "source": [
        "### Our solution"
      ]
    },
    {
      "cell_type": "markdown",
      "metadata": {
        "id": "ln1gopcP3E-n"
      },
      "source": [
        "```python\n",
        "import random\n",
        "goal = random.randrange(100)\n",
        "\n",
        "guess = 0\n",
        "while guess != goal:\n",
        "  guess = input('Guess a number between 1 and 100: ')\n",
        "  guess = int(guess)\n",
        "  if guess < goal:\n",
        "    print(guess, ' is too low.')\n",
        "  elif guess > goal:\n",
        "    print(guess, ' is too high.')\n",
        "  else:\n",
        "    print(guess,' is correct!')\n",
        "    ```\n",
        "    "
      ]
    }
  ]
}