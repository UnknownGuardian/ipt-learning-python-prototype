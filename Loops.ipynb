{
  "nbformat": 4,
  "nbformat_minor": 0,
  "metadata": {
    "colab": {
      "name": "Loops",
      "provenance": [],
      "toc_visible": true,
      "include_colab_link": true
    },
    "kernelspec": {
      "name": "python3",
      "display_name": "Python 3"
    },
    "language_info": {
      "name": "python"
    }
  },
  "cells": [
    {
      "cell_type": "markdown",
      "metadata": {
        "id": "view-in-github",
        "colab_type": "text"
      },
      "source": [
        "<a href=\"https://colab.research.google.com/github/UnknownGuardian/ipt-learning-python-prototype/blob/gh-pages/Loops.ipynb\" target=\"_parent\"><img src=\"https://colab.research.google.com/assets/colab-badge.svg\" alt=\"Open In Colab\"/></a>"
      ]
    },
    {
      "cell_type": "markdown",
      "metadata": {
        "id": "tEqwKJeIWUxF"
      },
      "source": [
        "# Loops\n",
        "\n",
        "Loops are essential to many programs because they allow a piece of code to be run an arbitrary amount of times. Consider a program which adds up the age of everyone in your family - a loop could be used to consider each member of the family individually and add their age to a tally until you have finished adding all family members.\n",
        "\n",
        "Consider this example Python Loop, which prints the numbers 0 up to 5, non-inclusive:\n",
        "\n",
        "```python3\n",
        "for number in range(5):\n",
        "  print(number)\n",
        "```\n",
        "\n",
        "```\n",
        ">> 0\n",
        ">> 1\n",
        ">> 2\n",
        ">> 3\n",
        ">> 4\n",
        "```\n",
        "\n",
        "We could change this program to print 0 to 10, non-inclusive, by modifying the `5` to become a `10`.\n",
        "\n",
        "```python3\n",
        "for number in range(10):\n",
        "  print(number)\n",
        "```\n"
      ]
    },
    {
      "cell_type": "markdown",
      "metadata": {
        "id": "WUB_1_7HZx3y"
      },
      "source": [
        "# Modify It!\n",
        "\n",
        "Change the program which prints 0 to 10 to sum up the values from 0 to 10, non-inclusive, and prints their sum at the end of the program. We've included a copy of the program in the code block below, so you can modify it there.\n",
        "\n",
        "The structure of the program might look like this:\n",
        "\n",
        "```\n",
        "set sum to zero\n",
        "loop over numbers\n",
        "  add the number to sum\n",
        "print sum\n",
        "```"
      ]
    },
    {
      "cell_type": "code",
      "metadata": {
        "id": "H7cVOFOCXTDk",
        "outputId": "2c1df3ef-2dc2-4486-8ce1-cf569cf09af4",
        "colab": {
          "base_uri": "https://localhost:8080/"
        }
      },
      "source": [
        "for number in range(10):\n",
        "  print(number)"
      ],
      "execution_count": 4,
      "outputs": [
        {
          "output_type": "stream",
          "name": "stdout",
          "text": [
            "0\n",
            "1\n",
            "2\n",
            "3\n",
            "4\n",
            "5\n",
            "6\n",
            "7\n",
            "8\n",
            "9\n"
          ]
        }
      ]
    },
    {
      "cell_type": "markdown",
      "metadata": {
        "id": "jZ8HGsAjaCGs"
      },
      "source": [
        "Check against our solution:\n",
        "\n",
        "```python3\n",
        "sum = 0\n",
        "for number in range(10):\n",
        "  sum = sum + number\n",
        "print(sum)\n",
        "```\n",
        "\n",
        "and produces this output:\n",
        "\n",
        "```\n",
        ">> 45\n",
        "```"
      ]
    }
  ]
}