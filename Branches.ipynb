{
  "nbformat": 4,
  "nbformat_minor": 0,
  "metadata": {
    "colab": {
      "name": "Branches.ipynb",
      "provenance": [],
      "include_colab_link": true
    },
    "kernelspec": {
      "name": "python3",
      "display_name": "Python 3"
    },
    "language_info": {
      "name": "python"
    }
  },
  "cells": [
    {
      "cell_type": "markdown",
      "metadata": {
        "id": "view-in-github",
        "colab_type": "text"
      },
      "source": [
        "<a href=\"https://colab.research.google.com/github/UnknownGuardian/ipt-learning-python-prototype/blob/gh-pages/Branches.ipynb\" target=\"_parent\"><img src=\"https://colab.research.google.com/assets/colab-badge.svg\" alt=\"Open In Colab\"/></a>"
      ]
    },
    {
      "cell_type": "markdown",
      "metadata": {
        "id": "yP2zw_E5t5t2"
      },
      "source": [
        "# Branches"
      ]
    },
    {
      "cell_type": "markdown",
      "metadata": {
        "id": "rFRQBUTQnkLF"
      },
      "source": [
        "\n",
        "A branch is a piece of code that is only executed when a condition is met. For example, in program that helps calculate a tax bracket, a branch can be used to apply the correct tax rate.\n",
        "\n",
        "Consider this branch in Python:\n",
        "\n",
        "```python3\n",
        "income = 10000\n",
        "\n",
        "if income > 5000:\n",
        "  print(\"The income is greater than 5000\")\n",
        "```\n",
        "\n",
        "which produces:\n",
        "\n",
        "```\n",
        ">> The income is greater than 5000\n",
        "```\n",
        "Notice the formating. First, the keyword if. Then a boolean expression, that is a comparison statement that produces a true or false as the answer. Finally a colon ':'. Notice that the next line is indented. The indent means that this line, and any other lines that are also indented, are only executed when the `if` above is true.\n",
        "\n",
        "We can also augment the branch to check if the condition is not met using a keyword called `else` like so:\n",
        "\n",
        "```python3\n",
        "income = 200\n",
        "\n",
        "if income > 5000:\n",
        "  print(\"The income is greater than 5000\")\n",
        "else:\n",
        "  print(\"The income is less than or equal to 5000\")\n",
        "```\n",
        "which produces:\n",
        "```\n",
        ">> The income is less than or equal to 5000\n",
        "```\n",
        "Notice that again, anything which should be executed when the `else` branch is taken, is indented.\n",
        "\n",
        "We can also connect many if/else statements in the following format:\n",
        "\n",
        "```python3\n",
        "income = 1500\n",
        "\n",
        "if income > 5000:\n",
        "  print(\"The income is greater than 5000\")\n",
        "elif income > 2500:\n",
        "  print(\"The income is greater than 2500 and less than or equal to 5000\")\n",
        "elif income > 1000:\n",
        "  print(\"The income is greater than 1000 and less than or equal to 2500\")\n",
        "else:\n",
        "  print(\"The income is less than or equal to 1000\")\n",
        "```\n",
        "\n",
        "which produces:\n",
        "```\n",
        ">>  C) The income is greater than 1000 and less than or equal to 2500\n",
        "```\n",
        "Again, the `elif` branches are indented.\n",
        "\n",
        "Run the program below to try it out:\n",
        "```\n",
        "income = 1500\n",
        "\n",
        "if income > 5000:\n",
        "  print(\"A) The income is greater than 5000\")\n",
        "elif income > 2500:\n",
        "  print(\"B) The income is greater than 2500 and less than or equal to 5000\")\n",
        "elif income > 1000:\n",
        "  print(\"C) The income is greater than 1000 and less than or equal to 2500\")\n",
        "else:\n",
        "  print(\"D) The income is less than or equal to 1000\")\n",
        "  ```\n"
      ]
    },
    {
      "cell_type": "code",
      "metadata": {
        "id": "3ZHSmW71AtQB",
        "colab": {
          "base_uri": "https://localhost:8080/"
        },
        "outputId": "166c9452-4572-4801-b192-9f6f5f7cbdf2"
      },
      "source": [
        ""
      ],
      "execution_count": null,
      "outputs": [
        {
          "output_type": "stream",
          "name": "stdout",
          "text": [
            "C) The income is greater than 1000 and less than or equal to 2500\n"
          ]
        }
      ]
    },
    {
      "cell_type": "markdown",
      "metadata": {
        "id": "eFaTWh8Yt2DW"
      },
      "source": [
        "# Nested and Multiple Conditions (Advanced)"
      ]
    },
    {
      "cell_type": "markdown",
      "metadata": {
        "id": "Oxzew2XnCU1c"
      },
      "source": [
        "\n",
        "\n",
        "In some cases, you need to check if multiple conditions are satisfied before executing some code. Python supports nested (meaning an `if` statement inside another `if` statement) conditions.\n",
        "\n",
        "```python3\n",
        "income = 500\n",
        "\n",
        "if income > 100:\n",
        "  if income < 1000:\n",
        "    print(\"Income less than $1000 and greater than $100\")\n",
        "```\n",
        "\n",
        "Alternatively, we could have combined both conditions with the `and` statement\n",
        "\n",
        "```python3\n",
        "income = 500\n",
        "\n",
        "if income > 100 and income < 1000:\n",
        "  print(\"Income is in the range of $100 - $1000\")\n",
        "```\n",
        "Try them both out in the following code block:\n"
      ]
    },
    {
      "cell_type": "code",
      "metadata": {
        "id": "tvSCBz-aC96q"
      },
      "source": [
        ""
      ],
      "execution_count": null,
      "outputs": []
    },
    {
      "cell_type": "markdown",
      "metadata": {
        "id": "jY0A08tvxYMg"
      },
      "source": [
        "You can have multiple lines inside the if as long as they are all indented the same amount. Consider the following program based on a nursery rhyme.\n",
        "\n",
        "```\n",
        "number = input ('Enter a number between 1 and 10: ')\n",
        "if number == '1' or number =='2':\n",
        "  print ('One, two')\n",
        "  print ('Buckle my shoe')\n",
        "elif number == '3' or number =='4':\n",
        "  print ('Three, four')\n",
        "  print ('Shut the door')\n",
        "elif number =='5' or number == '6':\n",
        "  print ('Five, six')\n",
        "  print ('Pick up sticks')\n",
        "elif number =='7' or number =='8':\n",
        "  print ('Seven, eight')\n",
        "  print ('Lay them straight')\n",
        "elif number == '9' or number == '10':\n",
        "  print ('Nine, ten')\n",
        "  print ('A big, fat hen')\n",
        "  ```"
      ]
    },
    {
      "cell_type": "code",
      "metadata": {
        "id": "-l3xClnex1fB"
      },
      "source": [
        ""
      ],
      "execution_count": null,
      "outputs": []
    },
    {
      "cell_type": "markdown",
      "metadata": {
        "id": "kq5gJTHqt9Tl"
      },
      "source": [
        "#Exercises\n"
      ]
    },
    {
      "cell_type": "markdown",
      "metadata": {
        "id": "xDAHNjQkuLM1"
      },
      "source": [
        "##Exercise 1"
      ]
    },
    {
      "cell_type": "markdown",
      "metadata": {
        "id": "AwGq8Fvf5OJy"
      },
      "source": [
        "Get two words from the user.\n",
        "Print them in alphabetical order."
      ]
    },
    {
      "cell_type": "code",
      "metadata": {
        "id": "G0uijg956Cpv"
      },
      "source": [
        ""
      ],
      "execution_count": null,
      "outputs": []
    },
    {
      "cell_type": "markdown",
      "metadata": {
        "id": "znie-nED6DQy"
      },
      "source": [
        "### Our solution"
      ]
    },
    {
      "cell_type": "markdown",
      "metadata": {
        "id": "XohAQ8PT6Dsr"
      },
      "source": [
        "```\n",
        "a = input ('Enter a word: ')\n",
        "b = input ('Enter another word: ')\n",
        "if a < b:\n",
        "  print (a, ' ', b)\n",
        "else:\n",
        "  print (b, ' ', a)\n",
        "  ```"
      ]
    },
    {
      "cell_type": "markdown",
      "metadata": {
        "id": "fXRHZ1zw2b3P"
      },
      "source": [
        "## Exercise 2"
      ]
    },
    {
      "cell_type": "markdown",
      "metadata": {
        "id": "bjrngxdkuBRx"
      },
      "source": [
        "Ask the user for their age.\n",
        "Print a category based upon their response. Use whatever age divisions, and categories you want, ie, baby, toddler, teenager, whippersnapper, ankle biter, old fogey ect.\n"
      ]
    },
    {
      "cell_type": "code",
      "metadata": {
        "id": "uwvKneRjuEMv"
      },
      "source": [
        ""
      ],
      "execution_count": null,
      "outputs": []
    },
    {
      "cell_type": "markdown",
      "metadata": {
        "id": "jxlznDVUuFlJ"
      },
      "source": [
        "### Our Solution"
      ]
    },
    {
      "cell_type": "markdown",
      "metadata": {
        "id": "CtXwOforuIDP"
      },
      "source": [
        "This is a very boring categorization.\n",
        "```\n",
        "age = input ('How old are you? ')\n",
        "age = int (age)\n",
        "\n",
        "if age < 0:\n",
        "  print (\"Not even born yet\")\n",
        "elif age < 2:\n",
        "  print (\"baby\")\n",
        "elif age < 18:\n",
        "  print (\"child\")\n",
        "elif age < 65:\n",
        "  print (\"adult\")\n",
        "else:\n",
        "  print (\"senior citizen\")\n",
        "  ```"
      ]
    }
  ]
}