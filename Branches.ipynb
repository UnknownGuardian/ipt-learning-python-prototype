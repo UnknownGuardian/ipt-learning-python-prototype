{
  "nbformat": 4,
  "nbformat_minor": 0,
  "metadata": {
    "colab": {
      "name": "Branches.ipynb",
      "provenance": [],
      "include_colab_link": true
    },
    "kernelspec": {
      "name": "python3",
      "display_name": "Python 3"
    },
    "language_info": {
      "name": "python"
    }
  },
  "cells": [
    {
      "cell_type": "markdown",
      "metadata": {
        "id": "view-in-github",
        "colab_type": "text"
      },
      "source": [
        "<a href=\"https://colab.research.google.com/github/UnknownGuardian/ipt-learning-python-prototype/blob/gh-pages/Branches.ipynb\" target=\"_parent\"><img src=\"https://colab.research.google.com/assets/colab-badge.svg\" alt=\"Open In Colab\"/></a>"
      ]
    },
    {
      "cell_type": "markdown",
      "metadata": {
        "id": "rFRQBUTQnkLF"
      },
      "source": [
        "# Branches\n",
        "\n",
        "A branch is a piece of code that is only executed when a condition is met. For example, in program that helps calculate a tax bracket, a branch can be used to apply the correct tax rate.\n",
        "\n",
        "Consider this branch in Python:\n",
        "\n",
        "```python3\n",
        "income = 10000\n",
        "\n",
        "if income > 5000:\n",
        "  print(\"The income is greater than 5000\")\n",
        "```\n",
        "\n",
        "which produces:\n",
        "\n",
        "```\n",
        ">> The income is greater than 5000\n",
        "```\n",
        "\n",
        "We can also augment the branch to check if the condition is not met using a keyword called `else` like so:\n",
        "\n",
        "```python3\n",
        "income = 200\n",
        "\n",
        "if income > 5000:\n",
        "  print(\"The income is greater than 5000\")\n",
        "else:\n",
        "  print(\"The income is less than or equal to 5000\")\n",
        "```\n",
        "which produces:\n",
        "```\n",
        ">> The income is less than or equal to 5000\n",
        "```\n",
        "\n",
        "We can also connect many if/else statements in the following format:\n",
        "\n",
        "```python3\n",
        "income = 1500\n",
        "\n",
        "if income > 5000:\n",
        "  print(\"The income is greater than 5000\")\n",
        "elif income > 2500:\n",
        "  print(\"The income is greater than 2500 and less than or equal to 5000\")\n",
        "elif income > 1000:\n",
        "  print(\"The income is greater than 1000 and less than or equal to 2500\")\n",
        "else:\n",
        "  print(\"The income is less than or equal to 1000\")\n",
        "```\n",
        "\n",
        "which produces:\n",
        "```\n",
        ">>  C) The income is greater than 1000 and less than or equal to 2500\n",
        "\n",
        "```\n",
        "Run the program below to try it out:"
      ]
    },
    {
      "cell_type": "code",
      "metadata": {
        "id": "3ZHSmW71AtQB",
        "colab": {
          "base_uri": "https://localhost:8080/"
        },
        "outputId": "166c9452-4572-4801-b192-9f6f5f7cbdf2"
      },
      "source": [
        "income = 1500\n",
        "\n",
        "if income > 5000:\n",
        "  print(\"A) The income is greater than 5000\")\n",
        "elif income > 2500:\n",
        "  print(\"B) The income is greater than 2500 and less than or equal to 5000\")\n",
        "elif income > 1000:\n",
        "  print(\"C) The income is greater than 1000 and less than or equal to 2500\")\n",
        "else:\n",
        "  print(\"D) The income is less than or equal to 1000\")"
      ],
      "execution_count": null,
      "outputs": [
        {
          "output_type": "stream",
          "name": "stdout",
          "text": [
            "C) The income is greater than 1000 and less than or equal to 2500\n"
          ]
        }
      ]
    },
    {
      "cell_type": "markdown",
      "metadata": {
        "id": "Oxzew2XnCU1c"
      },
      "source": [
        "# Nested and Multiple Conditions (Advanced)\n",
        "\n",
        "In some cases, you need to check if multiple conditions are satisfied before executing some code. Python supports nested (meaning an `if` statement inside another `if` statement) conditions.\n",
        "\n",
        "```python3\n",
        "income = 500\n",
        "\n",
        "if income > 100:\n",
        "  if income < 1000:\n",
        "    print(\"Income less than $1000 and greater than $100\")\n",
        "```\n",
        "\n",
        "Alternatively, we could have combined both conditions with the `and` statement\n",
        "\n",
        "```python3\n",
        "income = 500\n",
        "\n",
        "if income > 100 and income < 1000:\n",
        "  print(\"Income is in the range of $100 - $1000\")\n",
        "```\n",
        "Try this out in the following code block:"
      ]
    },
    {
      "cell_type": "code",
      "metadata": {
        "id": "tvSCBz-aC96q",
        "colab": {
          "base_uri": "https://localhost:8080/"
        },
        "outputId": "1e7006ca-9388-42df-906a-04aaac8539f2"
      },
      "source": [
        "income = 500\n",
        "\n",
        "if income > 100:\n",
        "  if income < 1000:\n",
        "    print(\"Income less than $1000 and greater than $100\")\n",
        "\n",
        "if income > 100 and income < 1000:\n",
        "  print(\"Income is in the range of $100 - $1000\")"
      ],
      "execution_count": null,
      "outputs": [
        {
          "output_type": "stream",
          "name": "stdout",
          "text": [
            "Income less than $1000 and greater than $100\n",
            "Income is in the range of $100 - $1000\n"
          ]
        }
      ]
    }
  ]
}