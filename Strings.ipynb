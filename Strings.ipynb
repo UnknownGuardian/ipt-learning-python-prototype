{
  "nbformat": 4,
  "nbformat_minor": 0,
  "metadata": {
    "colab": {
      "name": "Strings",
      "provenance": [],
      "include_colab_link": true
    },
    "kernelspec": {
      "name": "python3",
      "display_name": "Python 3"
    },
    "language_info": {
      "name": "python"
    }
  },
  "cells": [
    {
      "cell_type": "markdown",
      "metadata": {
        "id": "view-in-github",
        "colab_type": "text"
      },
      "source": [
        "<a href=\"https://colab.research.google.com/github/UnknownGuardian/ipt-learning-python-prototype/blob/gh-pages/Strings.ipynb\" target=\"_parent\"><img src=\"https://colab.research.google.com/assets/colab-badge.svg\" alt=\"Open In Colab\"/></a>"
      ]
    },
    {
      "cell_type": "markdown",
      "metadata": {
        "id": "WFV4FVRtXVZb"
      },
      "source": [
        "([Table of Contents](https://unknownguardian.github.io/ipt-learning-python-prototype/))\n"
      ]
    },
    {
      "cell_type": "markdown",
      "metadata": {
        "id": "0RmWzo7PPKlN"
      },
      "source": [
        "## String basics\n",
        "\n",
        "A string is data that uses letters or symbols, such as words, sentences, zip codes, phone numbers, or any combination of letters, numbers, punctuation, and other symbols. Control characters, which represent actions instead of visible symbols, can also be stored in a string. Tabs, carriage return, newline are types of control characters. These control characters, and blank spaces are all called white space. \n",
        " \n",
        "  When you get information from the user, it comes in as a string because it is typed on a keyboard. Look at the code below. It asks the user for a name, and then prints 'Hello' with whatever string they enter. Run it by clicking the play button on the left and see what it does when you enter something.\n",
        "\n"
      ]
    },
    {
      "cell_type": "code",
      "metadata": {
        "id": "_KwNJnrDQPye"
      },
      "source": [
        "name = input (\"What is your name? \")\n",
        "print (\"Hello \", name)"
      ],
      "execution_count": null,
      "outputs": []
    },
    {
      "cell_type": "markdown",
      "metadata": {
        "id": "MYBS3v2zRdmh"
      },
      "source": [
        "If you want to get numerical information from the user, you have to convert it into the type of data you want. See the sample program below.\n",
        "\n",
        "Sample 1\n",
        "```\n",
        "x = input (\"Enter a number: \")\n",
        "print (x * 5)\n",
        "y = int (x)\n",
        "print (y * 5)\n",
        "```\n"
      ]
    },
    {
      "cell_type": "code",
      "metadata": {
        "id": "_PkbMFZDQnX0"
      },
      "source": [
        ""
      ],
      "execution_count": null,
      "outputs": []
    },
    {
      "cell_type": "markdown",
      "metadata": {
        "id": "koTVDTX65b5z"
      },
      "source": [
        "Notice that in this program, x is a string because it is input from the keyboard, and y is an integer because we called the int() function.\n",
        "  Notice the difference in the output when you multiply a string, and when you multiply an integer."
      ]
    },
    {
      "cell_type": "markdown",
      "metadata": {
        "id": "_qqtobbSkBOx"
      },
      "source": [
        "## String manipulation\n",
        "Sometimes, you may want to get information about a string. For example, you may want to find out how long the string is.\n",
        "\n",
        "Type in this program and run it.\n",
        "\n",
        "```\n",
        "x = input (\"Enter a word: \")\n",
        "y = len (x)\n",
        "print ('You entered ', y, \" characters.\")\n",
        "```\n"
      ]
    },
    {
      "cell_type": "code",
      "metadata": {
        "id": "Ug1K98Qol4KY"
      },
      "source": [
        "# Enter your code here."
      ],
      "execution_count": null,
      "outputs": []
    },
    {
      "cell_type": "markdown",
      "metadata": {
        "id": "g96QK-LNm2kk"
      },
      "source": [
        "You used the len function to find the length of the string. \n",
        "\n",
        "You used the str function to turn an integer into a string.\n",
        "\n",
        "Notice that you can use either double quotes \" or single quotes ' to indicate a string. Just be sure to use the same type  on both ends. This allows you to create strings that contain quotes inside them. For example:\n",
        "```\n",
        "x = 'The computer said \"Hello World\"'\n",
        "y = \"It's alive!\"\n",
        "```\n"
      ]
    },
    {
      "cell_type": "code",
      "metadata": {
        "id": "RgkpJZFK71aw"
      },
      "source": [
        ""
      ],
      "execution_count": null,
      "outputs": []
    },
    {
      "cell_type": "markdown",
      "metadata": {
        "id": "SZ5EaRy-4PsB"
      },
      "source": [
        "You can also use the escape character '\\\\' (backslash) to add quotes and other control characters to your string.\n",
        "*   \\\\' will show '\n",
        "*   \\n will give you a new line.\n",
        "*   \\t will give you a tab.\n",
        "*   \\\\\\\\ will show \\\\.\n",
        "\n",
        "If you want to type a string that takes multiple rows, use three quotes.\n",
        "```\n",
        "x = \"\"\" This is a very long string that takes mulitple rows to write.\n",
        "\\t It will also print on multiple lines.\n",
        "So you don't have to force a new line. \\nBut you can if you want. \"\"\"\n",
        "print (x)\n",
        "```\n"
      ]
    },
    {
      "cell_type": "code",
      "metadata": {
        "id": "Dwiti5cy70be"
      },
      "source": [
        ""
      ],
      "execution_count": null,
      "outputs": []
    },
    {
      "cell_type": "markdown",
      "metadata": {
        "id": "JqGDMPJqnqio"
      },
      "source": [
        "You can access any character in the string with the [ ] (array) operator.  When counting the characters in a string, remember to start with 0. So for example, in the string 'Hello world', 'H' is the 0th character and 'w' is the 6th character. You can use negative numbers to count from the end. Copy the program below and try it. Then see if you can modify it to find the character in the middle of the word!\n",
        "```python\n",
        "x = input ('Enter a word: ')\n",
        "print ('The first letter in your word is: ', x[0])\n",
        "print ('The last letter in your word is: ', x[-1])\n",
        "```\n"
      ]
    },
    {
      "cell_type": "code",
      "metadata": {
        "id": "67M7WX9BzWcO"
      },
      "source": [
        "# Enter your code here"
      ],
      "execution_count": null,
      "outputs": []
    },
    {
      "cell_type": "markdown",
      "metadata": {
        "id": "jlUlkrlp1Nj6"
      },
      "source": [
        "## String functions\n",
        "\n",
        "The functions you have learned so far can be done not only on strings, but also on any array.  The following functions can only be done on strings, so they use a different syntax called object dot notation.\n",
        "\n",
        "In order to use string functions, you have to have a string variable. Try the program below.\n",
        "```python\n",
        "x = input('Enter a sentence: ')\n",
        "print (x.capitalize())\n",
        "print (x.upper())\n",
        "print (x.lower())\n",
        "print (x.split(' '))\n",
        "```"
      ]
    },
    {
      "cell_type": "markdown",
      "metadata": {
        "id": "yV4kvfzmAPYr"
      },
      "source": [
        "`capitalize` will make the first letter a capital.\n",
        "`upper` will make all letters capital.\n",
        "`lower` will make all letters not capital.\n",
        "`split` will separate the string into multiple pieces.\n",
        "\n",
        "Notice that instead of passing the variable into the function as you did with `len(x)`, this time you started with the variable and called functions that belong to it. Some of the functions don't need additional information, so they have an empty parameter list such as  `x.upper()`. Some of them do need additional information. Split needs to know what character to use to separate the string. We used a space to separate the sentence into words.  If you had a date, such as '10/22/1994', you could split on the slash character. `date.split('/')` "
      ]
    },
    {
      "cell_type": "code",
      "metadata": {
        "id": "LIM6FuIDDhe7"
      },
      "source": [
        ""
      ],
      "execution_count": null,
      "outputs": []
    },
    {
      "cell_type": "markdown",
      "metadata": {
        "id": "ef2EHPQxDQlO"
      },
      "source": [
        "Here are some additional string functions that you might find useful.\n",
        "- `find(str)` will tell you where something is in a string. \n",
        "- `count(str)` will tell you how many times something occurs in the string.\n",
        "- `strip()` will remove whitespace (spaces, tabs etc) from the front and back of the string.\n",
        "- `isalpha()` will tell you if all the charaters are letters.\n",
        "- `isdigit()` will tell you if all the characters are numbers.\n",
        "\n",
        "Here are some examples: \n",
        "```python\n",
        "x = 'The quick brown fox jumped over the lazy dog.'\n",
        "i = x.find('the')\n",
        "print (i)\n",
        "c = x.count('o')\n",
        "print (c)\n",
        "y = '   Hi   '\n",
        "y = y.strip()\n",
        "print (y)\n",
        "print ('123'.isalpha())\n",
        "print ('123'.isdigit())\n",
        "```"
      ]
    },
    {
      "cell_type": "markdown",
      "metadata": {
        "id": "5oxHieZiAVhJ"
      },
      "source": [
        "# Exercises\n"
      ]
    },
    {
      "cell_type": "markdown",
      "metadata": {
        "id": "A79lcYcNAZ-K"
      },
      "source": [
        "## Exercise 1"
      ]
    },
    {
      "cell_type": "markdown",
      "metadata": {
        "id": "s6SYjtiLIUAh"
      },
      "source": [
        "- Get a sentence from the user. \n",
        "- Find the first space in the sentence.\n",
        "- Tell them how many words they entered.\n",
        "- Tell them how many vowels they entered.\n",
        "- What if some of the vowels are capitalized? Did you still count them?"
      ]
    },
    {
      "cell_type": "code",
      "metadata": {
        "id": "oiCaagGiJyaT"
      },
      "source": [
        "# write your code here"
      ],
      "execution_count": null,
      "outputs": []
    },
    {
      "cell_type": "markdown",
      "metadata": {
        "id": "8Gxf-CAXB4Xl"
      },
      "source": [
        "## Exercise 2"
      ]
    },
    {
      "cell_type": "markdown",
      "metadata": {
        "id": "ULkk8tOBB8Id"
      },
      "source": [
        "Get some input from the user. If the input is a whole number, multiply it by `2` and print it out. If the input is a string (text), print out `\"That is not a number!\"`"
      ]
    },
    {
      "cell_type": "code",
      "metadata": {
        "id": "Qp5HrPf4CFKs"
      },
      "source": [
        "# write your code here"
      ],
      "execution_count": null,
      "outputs": []
    },
    {
      "cell_type": "markdown",
      "metadata": {
        "id": "kXVWkD2Hj7a8"
      },
      "source": [
        "## Answers"
      ]
    },
    {
      "cell_type": "markdown",
      "metadata": {
        "id": "D6KPb3MEj9m8"
      },
      "source": [
        "Collapse this section to view answers.\n",
        "<br/><br/><br/><br/><br/><br/><br/><br/><br/><br/><br/><br/><br/><br/><br/><br/><br/><br/><br/><br/><br/><br/><br/><br/><br/><br/><br/><br/><br/><br/><br/>\n",
        "Answers below"
      ]
    },
    {
      "cell_type": "markdown",
      "metadata": {
        "id": "qZo20-d0CFaF"
      },
      "source": [
        "## Exercise 1 Our solution"
      ]
    },
    {
      "cell_type": "markdown",
      "metadata": {
        "id": "4Tt9XmRZCHl5"
      },
      "source": [
        "```python\n",
        "line = input('Please enter a sentence: ')\n",
        "print ('The first space is at position ', line.find(' '))\n",
        "print ('You entered ', line.count (' ') + 1, ' words')\n",
        "line = line.lower()\n",
        "a = line.count('a')\n",
        "e = line.count('e')\n",
        "i = line.count('i')\n",
        "o = line.count('o')\n",
        "u = line.count('u')\n",
        "print ('a: ', a)\n",
        "print ('e: ', e)\n",
        "print ('i: ', i)\n",
        "print ('o: ', o)\n",
        "print ('u: ', u)\n",
        "```"
      ]
    },
    {
      "cell_type": "markdown",
      "metadata": {
        "id": "p_grjVpmB1-S"
      },
      "source": [
        "## Exercise 2 Our solution"
      ]
    },
    {
      "cell_type": "markdown",
      "metadata": {
        "id": "jUXywPMVBzu3"
      },
      "source": [
        "```python\n",
        "a = input(\"Enter a number: \")\n",
        "if a.isdigit():\n",
        "  number = int(a)\n",
        "  print( number * 2)\n",
        "else:\n",
        "  print(\"That is not a number!\")\n",
        "```"
      ]
    }
  ]
}