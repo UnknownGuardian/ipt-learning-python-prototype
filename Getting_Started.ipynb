{
  "nbformat": 4,
  "nbformat_minor": 0,
  "metadata": {
    "colab": {
      "name": "Getting Started.ipynb",
      "provenance": [],
      "include_colab_link": true
    },
    "kernelspec": {
      "name": "python3",
      "display_name": "Python 3"
    },
    "language_info": {
      "name": "python"
    }
  },
  "cells": [
    {
      "cell_type": "markdown",
      "metadata": {
        "id": "view-in-github",
        "colab_type": "text"
      },
      "source": [
        "<a href=\"https://colab.research.google.com/github/UnknownGuardian/ipt-learning-python-prototype/blob/gh-pages/Getting_Started.ipynb\" target=\"_parent\"><img src=\"https://colab.research.google.com/assets/colab-badge.svg\" alt=\"Open In Colab\"/></a>"
      ]
    },
    {
      "cell_type": "markdown",
      "metadata": {
        "id": "QIs6wOfgBIPL"
      },
      "source": [
        "([Table of Contents](https://github.com/UnknownGuardian/ipt-learning-python-prototype/blob/gh-pages/index.md))\n",
        "# Getting started with Colab\n",
        "Welcome to Google Colaboratory (or just Colab for short). This is an environment that allows you to have both text and Python code in the same document, called a notebook. If you are familiar with Google docs, then many elements of the environment should be familiar. This course is presented in Colab so that you can see your instructions and your code in the same notebook.\n",
        "\n",
        "\n",
        "\n",
        "### Make a Copy\n",
        "The first thing that you should do is click the \"Copy to Drive\" button in the menu above. \n",
        "\n",
        "![Image of Copy To Drive](https://i.imgur.com/LBkKlYX.png)\n",
        "\n",
        "\n",
        "\n",
        "That will make a copy of this notebook in your personal Google Drive. You can find it again by going to Google Drive and finding the folder \"Colab Notebooks\", like so:\n",
        "\n",
        "![Image of Notebook Copy](https://i.imgur.com/ZuCPXEW.png)\n",
        "\n",
        "**Know this:** If you come back to this lesson from the [Table of Contents](https://github.com/UnknownGuardian/ipt-learning-python-prototype/blob/gh-pages/index.md), it will give you a brand new copy of the notebook, instead of using your most recent notebook's progress.\n",
        "\n",
        "All of the lessons in this course will use the same format, so this lesson will get you familiar with it."
      ]
    },
    {
      "cell_type": "markdown",
      "metadata": {
        "id": "oIj9ob7TRRFd"
      },
      "source": [
        "## What does code look like in Colab?\n",
        "\n",
        "Sometimes we will provide you with example code for you to look at:\n",
        "```python\n",
        "# this is a code example.\n",
        "x = 3 \n",
        "```\n",
        "\n",
        "In other cases, we will ask you to write and run code:\n",
        "\n",
        "![Writing Code in Colab](https://i.imgur.com/fnVJmPZ.gif)\n",
        "\n",
        "\n",
        "In places where there is example code, you won't be able to edit it. When we ask you to run code, you'll see a grey box with brackets `[ ]` that you can click on to begin typing. \n",
        "\n",
        "**Know this:** A play button should appear, just like in this animation, when you start typing, to let you know are adding code to the correct place.\n",
        "\n",
        "When we tell you to copy code, you should type it in exactly as shown. If you copy/paste you will not learn as much. \n",
        "\n",
        "**Know this:** The first time that you try to run code in these lessons, you will get a popup warning that 'This notebook is not authored by Google.' If you trust us, then click 'Run Anyway'. \n",
        "\n",
        "\n",
        "## Try it out\n",
        "\n",
        "Run the code box below. You will notice that a bold input box appears. Type something in the box and hit enter."
      ]
    },
    {
      "cell_type": "code",
      "metadata": {
        "id": "j_r7Bzt_RSU_"
      },
      "source": [
        "# This is a code box. You can type code here and run it.\n",
        "# This line, and the one above are comments. Comments in Python start with the # sign.\n",
        "\n",
        "'This is a string. Strings in Python start and end with quotes.'\n",
        "\"This is also a string. Single quotes and double quotes both work.\"\n",
        "\n",
        "x = input('Enter a word: ')\n",
        "print(x)"
      ],
      "execution_count": null,
      "outputs": []
    },
    {
      "cell_type": "markdown",
      "metadata": {
        "id": "WRmtRj20UE-S"
      },
      "source": [
        "Notice that in the code box above the comments, the strings, the function call (input) and the rest of the code are in different colors. This will help you identify different parts of your code. \n",
        "\n",
        "Line numbers will also help you find parts of your code, especially when there is an error. Go to the \"Tools->Settings\" menu, or click on the gear icon in the top right corner. Choose \"Editor\" on the left. Find the checkbox for \"Show Line Numbers\" to choose if you want line numbers to show automatically or not. Test it both ways to see how the code box above changes."
      ]
    },
    {
      "cell_type": "markdown",
      "metadata": {
        "id": "N91fHR9AWvaY"
      },
      "source": [
        "# Hello World\n",
        "\n",
        "In the code box below, type the following code:\n",
        "```python\n",
        "print('Hello world')\n",
        "```\n",
        "Run it."
      ]
    },
    {
      "cell_type": "code",
      "metadata": {
        "id": "iNQUl5EaRVKk"
      },
      "source": [
        ""
      ],
      "execution_count": null,
      "outputs": []
    },
    {
      "cell_type": "markdown",
      "metadata": {
        "id": "MeyRhdD6bjnW"
      },
      "source": [
        "Change your program to print *Hello Matt* by duplicating the line of code to have two print statements.\n",
        "```python\n",
        "print('Hello world')\n",
        "print('Hello Matt')\n",
        "```\n",
        "Run your program to show that it works!\n",
        "Now make your program print whatever you want!\n"
      ]
    },
    {
      "cell_type": "markdown",
      "metadata": {
        "id": "id4YEOUBcRLa"
      },
      "source": [
        "#Errors\n",
        "In the code box below, try changing how print is spelled. Run it and see what happens.  Notice that the error message tells you the line number where the error occured, and what the error is."
      ]
    },
    {
      "cell_type": "code",
      "metadata": {
        "id": "gsZkqPUrqiBG"
      },
      "source": [
        "print('Hello world!')"
      ],
      "execution_count": null,
      "outputs": []
    },
    {
      "cell_type": "markdown",
      "metadata": {
        "id": "wLEmM6NgqsgV"
      },
      "source": [
        "Fix the error by spelling print correctly, and try removing the first parenthesis (. Run it. Notice that the error message again tells you exactly what is wrong.\n",
        "\n",
        "Fix it and try removing the first quote mark. This time the error message doesn't know exactly what is wrong, so it just says 'invalid syntax'. That means it can't figure out what is supposed to come next.\n",
        "\n",
        "Try removing the end quote or the end parenthesis. The error message 'EOL while scanning string literal' means that it can't tell where the string ends. The error 'unexpected EOF while parsing' means that it reached the end of the code when it was expecting something else.\n"
      ]
    }
  ]
}