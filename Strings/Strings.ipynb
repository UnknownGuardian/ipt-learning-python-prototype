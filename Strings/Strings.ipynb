{
  "nbformat": 4,
  "nbformat_minor": 0,
  "metadata": {
    "colab": {
      "name": "Strings",
      "provenance": [],
      "authorship_tag": "ABX9TyPD85Kc5GD5eO0hHssPvy8x",
      "include_colab_link": true
    },
    "kernelspec": {
      "name": "python3",
      "display_name": "Python 3"
    },
    "language_info": {
      "name": "python"
    }
  },
  "cells": [
    {
      "cell_type": "markdown",
      "metadata": {
        "id": "view-in-github",
        "colab_type": "text"
      },
      "source": [
        "<a href=\"https://colab.research.google.com/github/barbarawc/ipt-learning-python-prototype/blob/gh-pages/Strings.ipynb\" target=\"_parent\"><img src=\"https://colab.research.google.com/assets/colab-badge.svg\" alt=\"Open In Colab\"/></a>"
      ]
    },
    {
      "cell_type": "markdown",
      "metadata": {
        "id": "0RmWzo7PPKlN"
      },
      "source": [
        "A string is any sequance of characters. Usually strings contain letters, numbers, and punctuation. They can also contain white space, such as tab and paragraph control characters. Other control charaters are also possible, but you don't need to learn them right now. When you get information from the user, it comes in as a string. Look at the code below. It asks the user for a name, and then prints 'Hello' with whatever they enter. Run it and see.\n"
      ]
    },
    {
      "cell_type": "code",
      "metadata": {
        "colab": {
          "base_uri": "https://localhost:8080/"
        },
        "id": "_KwNJnrDQPye",
        "outputId": "ee995eae-72a1-4f04-ab7e-2816a333a3a1"
      },
      "source": [
        "name = input (\"What is your name? \",)\n",
        "print (\"Hello \", name)"
      ],
      "execution_count": 7,
      "outputs": [
        {
          "output_type": "stream",
          "name": "stdout",
          "text": [
            "What is your name? Barrbbb\n",
            "hello  Barrbbb\n"
          ]
        }
      ]
    },
    {
      "cell_type": "markdown",
      "metadata": {
        "id": "MYBS3v2zRdmh"
      },
      "source": [
        "If you want to get numerical information from the user, you have to convert it into the type of data you want. See the program below. Notice the difference when you multiply a string, and when you multiply an integer."
      ]
    },
    {
      "cell_type": "code",
      "metadata": {
        "colab": {
          "base_uri": "https://localhost:8080/"
        },
        "id": "_PkbMFZDQnX0",
        "outputId": "ade4d28d-c2a4-4134-8088-e0518bcc954a"
      },
      "source": [
        "x = input (\"Enter a number: \")\n",
        "print (x*5)\n",
        "y = int(x)\n",
        "print (y*5)"
      ],
      "execution_count": 11,
      "outputs": [
        {
          "output_type": "stream",
          "name": "stdout",
          "text": [
            "Enter a number: 6\n",
            "66666\n",
            "30\n"
          ]
        }
      ]
    }
  ]
}