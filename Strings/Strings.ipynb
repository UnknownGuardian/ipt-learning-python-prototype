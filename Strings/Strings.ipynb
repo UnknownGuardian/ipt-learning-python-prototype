{
  "nbformat": 4,
  "nbformat_minor": 0,
  "metadata": {
    "colab": {
      "name": "Strings",
      "provenance": [],
      "authorship_tag": "ABX9TyODutqFidycJg5lgHL4zgR6",
      "include_colab_link": true
    },
    "kernelspec": {
      "name": "python3",
      "display_name": "Python 3"
    },
    "language_info": {
      "name": "python"
    }
  },
  "cells": [
    {
      "cell_type": "markdown",
      "metadata": {
        "id": "view-in-github",
        "colab_type": "text"
      },
      "source": [
        "<a href=\"https://colab.research.google.com/github/UnknownGuardian/ipt-learning-python-prototype/blob/gh-pages/Strings/Strings.ipynb\" target=\"_parent\"><img src=\"https://colab.research.google.com/assets/colab-badge.svg\" alt=\"Open In Colab\"/></a>"
      ]
    },
    {
      "cell_type": "markdown",
      "metadata": {
        "id": "WFV4FVRtXVZb"
      },
      "source": [
        "## First\n",
        "\n",
        "Before you get started, click the \"Copy to Drive\" button in the menu bar above. That will give you a copy of this file, in your own drive, so that you can add and save your own work.\n"
      ]
    },
    {
      "cell_type": "markdown",
      "metadata": {
        "id": "0RmWzo7PPKlN"
      },
      "source": [
        "# Strings\n",
        "\n",
        "A string is any sequance of characters. Usually strings contain letters, numbers, and punctuation. They can also contain white space, such as tab and paragraph control characters. Other control charaters are also possible, but you don't need to learn them right now. When you get information from the user, it comes in as a string. Look at the code below. It asks the user for a name, and then prints 'Hello' with whatever they enter. Run it and see.\n",
        "\n"
      ]
    },
    {
      "cell_type": "code",
      "metadata": {
        "id": "_KwNJnrDQPye"
      },
      "source": [
        "name = input (\"What is your name? \",)\n",
        "print (\"Hello \", name)"
      ],
      "execution_count": null,
      "outputs": []
    },
    {
      "cell_type": "markdown",
      "metadata": {
        "id": "MYBS3v2zRdmh"
      },
      "source": [
        "If you want to get numerical information from the user, you have to convert it into the type of data you want. See the program image below. Type it in and run it. Notice that in this program, x is a string and y is an integer.\n",
        "\n",
        "![image.png](data:image/png;base64,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)\n",
        "\n",
        " Notice the difference in the output when you multiply a string, and when you multiply an integer."
      ]
    },
    {
      "cell_type": "code",
      "metadata": {
        "id": "_PkbMFZDQnX0"
      },
      "source": [
        "# Enter your code here\n"
      ],
      "execution_count": null,
      "outputs": []
    },
    {
      "cell_type": "markdown",
      "metadata": {
        "id": "_qqtobbSkBOx"
      },
      "source": [
        "## String manipulation\n",
        "Sometimes, you may want to get information about a string. For example, you may want to find out how long the string is.\n",
        "\n",
        "Type in this program and run it.\n",
        "\n",
        "![image.png](data:image/png;base64,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)"
      ]
    },
    {
      "cell_type": "code",
      "metadata": {
        "id": "Ug1K98Qol4KY"
      },
      "source": [
        "# Enter your code here."
      ],
      "execution_count": null,
      "outputs": []
    },
    {
      "cell_type": "markdown",
      "metadata": {
        "id": "g96QK-LNm2kk"
      },
      "source": [
        "You used the len function to find the length of the string. \n",
        "\n",
        "You used the str function to turn an integer into a string.\n",
        "\n",
        "You used the '+' (addition) operator to join strings together.\n",
        "\n",
        "In the first program, you used the '*' (multiplication) operator to copy a string several times."
      ]
    },
    {
      "cell_type": "markdown",
      "metadata": {
        "id": "JqGDMPJqnqio"
      },
      "source": [
        "You can access any character in the string with the [] (array) operator.  When counting the characters in a string, remember to start with 0. So for example, in the string 'Hello world', 'H' is the 0th character and 'w' is the 6th character. "
      ]
    }
  ]
}